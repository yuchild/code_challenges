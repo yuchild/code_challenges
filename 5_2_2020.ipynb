{
 "cells": [
  {
   "cell_type": "markdown",
   "metadata": {},
   "source": [
    "### Differentiate a Polynomial"
   ]
  },
  {
   "cell_type": "code",
   "execution_count": 278,
   "metadata": {},
   "outputs": [],
   "source": [
    "def differentiate(equation, point):\n",
    "    import numpy as np\n",
    "    h = np.float128(0.0001)\n",
    "    equation = equation.replace('+x', '+1x')\n",
    "    equation = equation.replace('-x', '-1x')\n",
    "    equation = equation.replace('x', '*x')\n",
    "    equation = equation.replace('^', '**')\n",
    "    if equation[0] == '*':\n",
    "        equation = equation[1:]\n",
    "    def f(eq, point):\n",
    "        eq = eq.replace('x', '(%s)'%point)\n",
    "        return np.float128(eval(eq))\n",
    "    return int(round((f(equation, point+h) - f(equation, point))/h))"
   ]
  },
  {
   "cell_type": "code",
   "execution_count": 374,
   "metadata": {},
   "outputs": [],
   "source": [
    "def differentiate(equation, point):\n",
    "    equation = equation.replace('-', '+-')\n",
    "    equation = equation.split('+')\n",
    "    num_lst = [x for x in equation if 'x' in x]\n",
    "    coeff_lst = []\n",
    "    for x in num_lst:\n",
    "        if 'x^' in x:\n",
    "            coeff_lst.append(x.split('x^'))\n",
    "        else:\n",
    "            coeff_lst.append(x.split('x'))\n",
    "    vals = []\n",
    "    for x in coeff_lst:\n",
    "        if '' == x[0] and '' == x[1]:\n",
    "            vals.append(1)\n",
    "        elif '-' == x[0] and '' == x[1]:\n",
    "            vals.append(-1)\n",
    "        elif '-' == x[0] and x[1] != '':\n",
    "            vals.append(-1*int(x[1])*point**(int(x[1])-1))\n",
    "        elif '' == x[0]:\n",
    "            vals.append((int(x[1]))*point**(int(x[1])-1))\n",
    "        elif '' == x[1]:\n",
    "            vals.append(int(x[0]))\n",
    "        else:\n",
    "            vals.append(int(x[0])*(int(x[1]))*point**(int(x[1])-1))\n",
    "    return sum(vals)"
   ]
  },
  {
   "cell_type": "code",
   "execution_count": 376,
   "metadata": {
    "scrolled": true
   },
   "outputs": [
    {
     "data": {
      "text/plain": [
       "12"
      ]
     },
     "execution_count": 376,
     "metadata": {},
     "output_type": "execute_result"
    }
   ],
   "source": [
    "differentiate(\"12x+2\", 3)"
   ]
  },
  {
   "cell_type": "code",
   "execution_count": 377,
   "metadata": {},
   "outputs": [
    {
     "data": {
      "text/plain": [
       "5"
      ]
     },
     "execution_count": 377,
     "metadata": {},
     "output_type": "execute_result"
    }
   ],
   "source": [
    "differentiate(\"x^2-x\", 3)"
   ]
  },
  {
   "cell_type": "code",
   "execution_count": 378,
   "metadata": {},
   "outputs": [
    {
     "data": {
      "text/plain": [
       "-20"
      ]
     },
     "execution_count": 378,
     "metadata": {},
     "output_type": "execute_result"
    }
   ],
   "source": [
    "differentiate(\"-5x^2+10x+4\", 3)"
   ]
  },
  {
   "cell_type": "code",
   "execution_count": 379,
   "metadata": {},
   "outputs": [
    {
     "data": {
      "text/plain": [
       "1"
      ]
     },
     "execution_count": 379,
     "metadata": {},
     "output_type": "execute_result"
    }
   ],
   "source": [
    "differentiate(\"x-66\", 3)"
   ]
  },
  {
   "cell_type": "code",
   "execution_count": 380,
   "metadata": {},
   "outputs": [
    {
     "data": {
      "text/plain": [
       "-2469135813"
      ]
     },
     "execution_count": 380,
     "metadata": {},
     "output_type": "execute_result"
    }
   ],
   "source": [
    "differentiate('-x^2+3x-3', 1234567908)"
   ]
  },
  {
   "cell_type": "code",
   "execution_count": 366,
   "metadata": {},
   "outputs": [],
   "source": [
    "equation, point = '-x^2+3x-3', 1234567908"
   ]
  },
  {
   "cell_type": "code",
   "execution_count": 373,
   "metadata": {},
   "outputs": [
    {
     "name": "stdout",
     "output_type": "stream",
     "text": [
      "['-x^2', '3x']\n",
      "[['-', '2'], ['3', '']]\n",
      "[-2469135816, 3]\n"
     ]
    }
   ],
   "source": [
    "equation, point = '-x^2+3x-3', 1234567908\n",
    "equation = equation.replace('-', '+-')\n",
    "equation = equation.split('+')\n",
    "num_lst = [x for x in equation if 'x' in x]\n",
    "coeff_lst = []\n",
    "for x in num_lst:\n",
    "    if 'x^' in x:\n",
    "        coeff_lst.append(x.split('x^'))\n",
    "    else:\n",
    "        coeff_lst.append(x.split('x'))\n",
    "vals = []\n",
    "for x in coeff_lst:\n",
    "    if '' == x[0] and '' == x[1]:\n",
    "        vals.append(1)\n",
    "    elif '-' == x[0] and '' == x[1]:\n",
    "        vals.append(-1)\n",
    "    elif '-' == x[0] and x[1] != '':\n",
    "        vals.append(-1*int(x[1])*point**(int(x[1])-1))\n",
    "    elif '' == x[0]:\n",
    "        vals.append((int(x[1]))*point**(int(x[1])-1))\n",
    "    elif '' == x[1]:\n",
    "        vals.append(int(x[0]))\n",
    "    else:\n",
    "        vals.append(int(x[0])*(int(x[1]))*point**(int(x[1])-1))\n",
    "print(num_lst)\n",
    "print(coeff_lst)\n",
    "print(vals)"
   ]
  },
  {
   "cell_type": "code",
   "execution_count": null,
   "metadata": {},
   "outputs": [],
   "source": []
  }
 ],
 "metadata": {
  "kernelspec": {
   "display_name": "Python 3",
   "language": "python",
   "name": "python3"
  },
  "language_info": {
   "codemirror_mode": {
    "name": "ipython",
    "version": 3
   },
   "file_extension": ".py",
   "mimetype": "text/x-python",
   "name": "python",
   "nbconvert_exporter": "python",
   "pygments_lexer": "ipython3",
   "version": "3.7.5"
  }
 },
 "nbformat": 4,
 "nbformat_minor": 4
}
