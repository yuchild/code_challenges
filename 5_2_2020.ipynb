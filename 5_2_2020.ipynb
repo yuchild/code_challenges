{
 "cells": [
  {
   "cell_type": "markdown",
   "metadata": {},
   "source": [
    "### Differentiate a Polynomial"
   ]
  },
  {
   "cell_type": "code",
   "execution_count": 1,
   "metadata": {},
   "outputs": [],
   "source": [
    "def differentiate(equation, point):\n",
    "    import numpy as np\n",
    "    h = np.float128(0.0001)\n",
    "    equation = equation.replace('+x', '+1x')\n",
    "    equation = equation.replace('-x', '-1x')\n",
    "    equation = equation.replace('x', '*x')\n",
    "    equation = equation.replace('^', '**')\n",
    "    if equation[0] == '*':\n",
    "        equation = equation[1:]\n",
    "    def f(eq, point):\n",
    "        eq = eq.replace('x', '(%s)'%point)\n",
    "        return np.float128(eval(eq))\n",
    "    return int(round((f(equation, point+h) - f(equation, point))/h))"
   ]
  },
  {
   "cell_type": "code",
   "execution_count": 2,
   "metadata": {},
   "outputs": [],
   "source": [
    "def differentiate(equation, point):\n",
    "    equation = equation.replace('-', '+-')\n",
    "    equation = equation.split('+')\n",
    "    num_lst = [x for x in equation if 'x' in x]\n",
    "    coeff_lst = []\n",
    "    for x in num_lst:\n",
    "        if 'x^' in x:\n",
    "            coeff_lst.append(x.split('x^'))\n",
    "        else:\n",
    "            coeff_lst.append(x.split('x'))\n",
    "    vals = []\n",
    "    for x in coeff_lst:\n",
    "        if '' == x[0] and '' == x[1]:\n",
    "            vals.append(1)\n",
    "        elif '-' == x[0] and '' == x[1]:\n",
    "            vals.append(-1)\n",
    "        elif '-' == x[0] and x[1] != '':\n",
    "            vals.append(-1*int(x[1])*point**(int(x[1])-1))\n",
    "        elif '' == x[0]:\n",
    "            vals.append((int(x[1]))*point**(int(x[1])-1))\n",
    "        elif '' == x[1]:\n",
    "            vals.append(int(x[0]))\n",
    "        else:\n",
    "            vals.append(int(x[0])*(int(x[1]))*point**(int(x[1])-1))\n",
    "    return sum(vals)"
   ]
  },
  {
   "cell_type": "code",
   "execution_count": 3,
   "metadata": {
    "scrolled": true
   },
   "outputs": [
    {
     "data": {
      "text/plain": [
       "12"
      ]
     },
     "execution_count": 3,
     "metadata": {},
     "output_type": "execute_result"
    }
   ],
   "source": [
    "differentiate(\"12x+2\", 3)"
   ]
  },
  {
   "cell_type": "code",
   "execution_count": 4,
   "metadata": {},
   "outputs": [
    {
     "data": {
      "text/plain": [
       "5"
      ]
     },
     "execution_count": 4,
     "metadata": {},
     "output_type": "execute_result"
    }
   ],
   "source": [
    "differentiate(\"x^2-x\", 3)"
   ]
  },
  {
   "cell_type": "code",
   "execution_count": 5,
   "metadata": {},
   "outputs": [
    {
     "data": {
      "text/plain": [
       "-20"
      ]
     },
     "execution_count": 5,
     "metadata": {},
     "output_type": "execute_result"
    }
   ],
   "source": [
    "differentiate(\"-5x^2+10x+4\", 3)"
   ]
  },
  {
   "cell_type": "code",
   "execution_count": 6,
   "metadata": {},
   "outputs": [
    {
     "data": {
      "text/plain": [
       "1"
      ]
     },
     "execution_count": 6,
     "metadata": {},
     "output_type": "execute_result"
    }
   ],
   "source": [
    "differentiate(\"x-66\", 3)"
   ]
  },
  {
   "cell_type": "code",
   "execution_count": 7,
   "metadata": {},
   "outputs": [
    {
     "data": {
      "text/plain": [
       "-2469135813"
      ]
     },
     "execution_count": 7,
     "metadata": {},
     "output_type": "execute_result"
    }
   ],
   "source": [
    "differentiate('-x^2+3x-3', 1234567908)"
   ]
  },
  {
   "cell_type": "code",
   "execution_count": 8,
   "metadata": {},
   "outputs": [],
   "source": [
    "equation, point = '-x^2+3x-3', 1234567908"
   ]
  },
  {
   "cell_type": "code",
   "execution_count": 9,
   "metadata": {},
   "outputs": [
    {
     "name": "stdout",
     "output_type": "stream",
     "text": [
      "['-x^2', '3x']\n",
      "[['-', '2'], ['3', '']]\n",
      "[-2469135816, 3]\n"
     ]
    }
   ],
   "source": [
    "equation, point = '-x^2+3x-3', 1234567908\n",
    "equation = equation.replace('-', '+-')\n",
    "equation = equation.split('+')\n",
    "num_lst = [x for x in equation if 'x' in x]\n",
    "coeff_lst = []\n",
    "for x in num_lst:\n",
    "    if 'x^' in x:\n",
    "        coeff_lst.append(x.split('x^'))\n",
    "    else:\n",
    "        coeff_lst.append(x.split('x'))\n",
    "vals = []\n",
    "for x in coeff_lst:\n",
    "    if '' == x[0] and '' == x[1]:\n",
    "        vals.append(1)\n",
    "    elif '-' == x[0] and '' == x[1]:\n",
    "        vals.append(-1)\n",
    "    elif '-' == x[0] and x[1] != '':\n",
    "        vals.append(-1*int(x[1])*point**(int(x[1])-1))\n",
    "    elif '' == x[0]:\n",
    "        vals.append((int(x[1]))*point**(int(x[1])-1))\n",
    "    elif '' == x[1]:\n",
    "        vals.append(int(x[0]))\n",
    "    else:\n",
    "        vals.append(int(x[0])*(int(x[1]))*point**(int(x[1])-1))\n",
    "print(num_lst)\n",
    "print(coeff_lst)\n",
    "print(vals)"
   ]
  },
  {
   "cell_type": "markdown",
   "metadata": {},
   "source": [
    "### Middle Permutation\n",
    "<br>\n",
    "https://www.codewars.com/kata/58ad317d1541651a740000c5/train/python"
   ]
  },
  {
   "cell_type": "code",
   "execution_count": 10,
   "metadata": {},
   "outputs": [],
   "source": [
    "string = 'abc'"
   ]
  },
  {
   "cell_type": "code",
   "execution_count": 11,
   "metadata": {},
   "outputs": [],
   "source": [
    "import numpy as np"
   ]
  },
  {
   "cell_type": "code",
   "execution_count": 12,
   "metadata": {},
   "outputs": [],
   "source": [
    "import itertools as itr"
   ]
  },
  {
   "cell_type": "code",
   "execution_count": 13,
   "metadata": {},
   "outputs": [
    {
     "data": {
      "text/plain": [
       "[('a', 'b', 'c'),\n",
       " ('a', 'c', 'b'),\n",
       " ('b', 'a', 'c'),\n",
       " ('b', 'c', 'a'),\n",
       " ('c', 'a', 'b'),\n",
       " ('c', 'b', 'a')]"
      ]
     },
     "execution_count": 13,
     "metadata": {},
     "output_type": "execute_result"
    }
   ],
   "source": [
    "itr_lst = list(itr.permutations(string))\n",
    "itr_lst"
   ]
  },
  {
   "cell_type": "code",
   "execution_count": 14,
   "metadata": {},
   "outputs": [
    {
     "data": {
      "text/plain": [
       "('b', 'c', 'a')"
      ]
     },
     "execution_count": 14,
     "metadata": {},
     "output_type": "execute_result"
    }
   ],
   "source": [
    "itr_lst[len(itr_lst)//2]"
   ]
  },
  {
   "cell_type": "code",
   "execution_count": 15,
   "metadata": {},
   "outputs": [],
   "source": [
    "def middle_permutation(string):\n",
    "    import itertools, math\n",
    "    itr_lst = sorted(list(itertools.permutations(string)))\n",
    "    return ''.join(itr_lst[math.floor(len(itr_lst)/2)-1])"
   ]
  },
  {
   "cell_type": "code",
   "execution_count": 16,
   "metadata": {},
   "outputs": [
    {
     "data": {
      "text/plain": [
       "'12'"
      ]
     },
     "execution_count": 16,
     "metadata": {},
     "output_type": "execute_result"
    }
   ],
   "source": [
    "middle_permutation('12')"
   ]
  },
  {
   "cell_type": "code",
   "execution_count": 17,
   "metadata": {},
   "outputs": [
    {
     "data": {
      "text/plain": [
       "'213'"
      ]
     },
     "execution_count": 17,
     "metadata": {},
     "output_type": "execute_result"
    }
   ],
   "source": [
    "middle_permutation('123')"
   ]
  },
  {
   "cell_type": "code",
   "execution_count": 18,
   "metadata": {},
   "outputs": [
    {
     "data": {
      "text/plain": [
       "'2431'"
      ]
     },
     "execution_count": 18,
     "metadata": {},
     "output_type": "execute_result"
    }
   ],
   "source": [
    "middle_permutation(\"1234\")"
   ]
  },
  {
   "cell_type": "code",
   "execution_count": 19,
   "metadata": {
    "scrolled": true
   },
   "outputs": [
    {
     "data": {
      "text/plain": [
       "'32541'"
      ]
     },
     "execution_count": 19,
     "metadata": {},
     "output_type": "execute_result"
    }
   ],
   "source": [
    "middle_permutation(\"12345\")"
   ]
  },
  {
   "cell_type": "code",
   "execution_count": 20,
   "metadata": {},
   "outputs": [
    {
     "data": {
      "text/plain": [
       "'365421'"
      ]
     },
     "execution_count": 20,
     "metadata": {},
     "output_type": "execute_result"
    }
   ],
   "source": [
    "middle_permutation(\"123456\")"
   ]
  },
  {
   "cell_type": "code",
   "execution_count": 21,
   "metadata": {},
   "outputs": [
    {
     "data": {
      "text/plain": [
       "'4376521'"
      ]
     },
     "execution_count": 21,
     "metadata": {},
     "output_type": "execute_result"
    }
   ],
   "source": [
    "middle_permutation(\"1234567\")"
   ]
  },
  {
   "cell_type": "code",
   "execution_count": 22,
   "metadata": {},
   "outputs": [
    {
     "data": {
      "text/plain": [
       "'bac'"
      ]
     },
     "execution_count": 22,
     "metadata": {},
     "output_type": "execute_result"
    }
   ],
   "source": [
    "middle_permutation(\"abc\")"
   ]
  },
  {
   "cell_type": "code",
   "execution_count": 23,
   "metadata": {},
   "outputs": [
    {
     "data": {
      "text/plain": [
       "'bdca'"
      ]
     },
     "execution_count": 23,
     "metadata": {},
     "output_type": "execute_result"
    }
   ],
   "source": [
    "middle_permutation(\"abcd\")"
   ]
  },
  {
   "cell_type": "code",
   "execution_count": 24,
   "metadata": {},
   "outputs": [
    {
     "data": {
      "text/plain": [
       "'cbxda'"
      ]
     },
     "execution_count": 24,
     "metadata": {},
     "output_type": "execute_result"
    }
   ],
   "source": [
    "middle_permutation(\"abcdx\")"
   ]
  },
  {
   "cell_type": "code",
   "execution_count": 25,
   "metadata": {},
   "outputs": [
    {
     "data": {
      "text/plain": [
       "'cxgdba'"
      ]
     },
     "execution_count": 25,
     "metadata": {},
     "output_type": "execute_result"
    }
   ],
   "source": [
    "middle_permutation(\"abcdxg\")"
   ]
  },
  {
   "cell_type": "code",
   "execution_count": 26,
   "metadata": {},
   "outputs": [
    {
     "data": {
      "text/plain": [
       "'dczxgba'"
      ]
     },
     "execution_count": 26,
     "metadata": {},
     "output_type": "execute_result"
    }
   ],
   "source": [
    "middle_permutation(\"abcdxgz\")"
   ]
  },
  {
   "cell_type": "code",
   "execution_count": null,
   "metadata": {},
   "outputs": [],
   "source": []
  },
  {
   "cell_type": "code",
   "execution_count": null,
   "metadata": {},
   "outputs": [],
   "source": []
  },
  {
   "cell_type": "code",
   "execution_count": 27,
   "metadata": {},
   "outputs": [
    {
     "name": "stdout",
     "output_type": "stream",
     "text": [
      "2\n"
     ]
    }
   ],
   "source": [
    "import math\n",
    "string = '1234'\n",
    "if len(string) < 3:\n",
    "    print(string)\n",
    "else:\n",
    "    print(string[math.floor(len(string)//2)-1])"
   ]
  },
  {
   "cell_type": "code",
   "execution_count": 28,
   "metadata": {},
   "outputs": [
    {
     "data": {
      "text/plain": [
       "'134'"
      ]
     },
     "execution_count": 28,
     "metadata": {},
     "output_type": "execute_result"
    }
   ],
   "source": [
    "'1234'.replace('2', '')"
   ]
  },
  {
   "cell_type": "code",
   "execution_count": 29,
   "metadata": {},
   "outputs": [
    {
     "data": {
      "text/plain": [
       "'2431'"
      ]
     },
     "execution_count": 29,
     "metadata": {},
     "output_type": "execute_result"
    }
   ],
   "source": [
    "'2' + '134'[::-1]"
   ]
  },
  {
   "cell_type": "code",
   "execution_count": 30,
   "metadata": {},
   "outputs": [
    {
     "name": "stdout",
     "output_type": "stream",
     "text": [
      "32541\n"
     ]
    }
   ],
   "source": [
    "import math\n",
    "string = '12345'\n",
    "if len(string) < 3:\n",
    "    print(string)\n",
    "elif len(string) == 3:\n",
    "    print(string[1]+string[0]+string[2])\n",
    "else:\n",
    "    if len(string)%2==0:\n",
    "        first = string[math.floor(len(string)//2)-1]\n",
    "        string = string.replace(string[math.floor(len(string)//2)-1], '')\n",
    "        print(first+string[::-1])\n",
    "    else:\n",
    "        first = string[math.floor(len(string)//2)]\n",
    "        string = string.replace(string[math.floor(len(string)//2)], '')\n",
    "        second = string[math.floor(len(string)//2-1)]\n",
    "        string = string.replace(string[math.floor(len(string)//2)-1], '')\n",
    "        print(first+second+string[::-1])\n"
   ]
  },
  {
   "cell_type": "code",
   "execution_count": 31,
   "metadata": {},
   "outputs": [],
   "source": [
    "def middle_permutation(string):\n",
    "    import math\n",
    "    string = ''.join(sorted(string))\n",
    "    if len(string) < 3:\n",
    "        return string\n",
    "    elif len(string) == 3:\n",
    "        return string[1]+string[0]+string[2]\n",
    "    else:\n",
    "        if len(string)%2==0:\n",
    "            first = string[math.floor(len(string)//2)-1]\n",
    "            string = string.replace(first, '')\n",
    "            return first+string[::-1]\n",
    "        else:\n",
    "            first = string[math.floor(len(string)//2)]\n",
    "            string = string.replace(first, '')\n",
    "            second = string[math.floor(len(string)//2)-1]\n",
    "            string = string.replace(second, '')\n",
    "            return first+second+string[::-1]"
   ]
  },
  {
   "cell_type": "code",
   "execution_count": 32,
   "metadata": {},
   "outputs": [
    {
     "data": {
      "text/plain": [
       "'c'"
      ]
     },
     "execution_count": 32,
     "metadata": {},
     "output_type": "execute_result"
    }
   ],
   "source": [
    "string = 'abcde'\n",
    "string[math.floor(len(string)//2)]"
   ]
  },
  {
   "cell_type": "code",
   "execution_count": 33,
   "metadata": {},
   "outputs": [
    {
     "data": {
      "text/plain": [
       "'b'"
      ]
     },
     "execution_count": 33,
     "metadata": {},
     "output_type": "execute_result"
    }
   ],
   "source": [
    "string = 'abcd'\n",
    "string[math.floor(len(string)//2)-1]"
   ]
  },
  {
   "cell_type": "code",
   "execution_count": 34,
   "metadata": {},
   "outputs": [
    {
     "data": {
      "text/plain": [
       "'1'"
      ]
     },
     "execution_count": 34,
     "metadata": {},
     "output_type": "execute_result"
    }
   ],
   "source": [
    "middle_permutation('1')"
   ]
  },
  {
   "cell_type": "code",
   "execution_count": 35,
   "metadata": {},
   "outputs": [
    {
     "data": {
      "text/plain": [
       "'12'"
      ]
     },
     "execution_count": 35,
     "metadata": {},
     "output_type": "execute_result"
    }
   ],
   "source": [
    "middle_permutation('12')"
   ]
  },
  {
   "cell_type": "code",
   "execution_count": 36,
   "metadata": {},
   "outputs": [
    {
     "data": {
      "text/plain": [
       "'213'"
      ]
     },
     "execution_count": 36,
     "metadata": {},
     "output_type": "execute_result"
    }
   ],
   "source": [
    "middle_permutation('123')"
   ]
  },
  {
   "cell_type": "code",
   "execution_count": 37,
   "metadata": {},
   "outputs": [
    {
     "data": {
      "text/plain": [
       "'2431'"
      ]
     },
     "execution_count": 37,
     "metadata": {},
     "output_type": "execute_result"
    }
   ],
   "source": [
    "middle_permutation('1234')"
   ]
  },
  {
   "cell_type": "code",
   "execution_count": 38,
   "metadata": {},
   "outputs": [
    {
     "data": {
      "text/plain": [
       "'32541'"
      ]
     },
     "execution_count": 38,
     "metadata": {},
     "output_type": "execute_result"
    }
   ],
   "source": [
    "middle_permutation(\"12345\")"
   ]
  },
  {
   "cell_type": "code",
   "execution_count": 39,
   "metadata": {},
   "outputs": [
    {
     "data": {
      "text/plain": [
       "'365421'"
      ]
     },
     "execution_count": 39,
     "metadata": {},
     "output_type": "execute_result"
    }
   ],
   "source": [
    "middle_permutation(\"123456\")"
   ]
  },
  {
   "cell_type": "code",
   "execution_count": 40,
   "metadata": {},
   "outputs": [
    {
     "data": {
      "text/plain": [
       "'4376521'"
      ]
     },
     "execution_count": 40,
     "metadata": {},
     "output_type": "execute_result"
    }
   ],
   "source": [
    "middle_permutation(\"1234567\")"
   ]
  },
  {
   "cell_type": "code",
   "execution_count": 41,
   "metadata": {},
   "outputs": [
    {
     "data": {
      "text/plain": [
       "'bac'"
      ]
     },
     "execution_count": 41,
     "metadata": {},
     "output_type": "execute_result"
    }
   ],
   "source": [
    "middle_permutation(\"abc\")"
   ]
  },
  {
   "cell_type": "code",
   "execution_count": 42,
   "metadata": {},
   "outputs": [
    {
     "data": {
      "text/plain": [
       "'bdca'"
      ]
     },
     "execution_count": 42,
     "metadata": {},
     "output_type": "execute_result"
    }
   ],
   "source": [
    "middle_permutation(\"abcd\")"
   ]
  },
  {
   "cell_type": "code",
   "execution_count": 43,
   "metadata": {},
   "outputs": [
    {
     "data": {
      "text/plain": [
       "'cbxda'"
      ]
     },
     "execution_count": 43,
     "metadata": {},
     "output_type": "execute_result"
    }
   ],
   "source": [
    "middle_permutation(\"abcdx\")"
   ]
  },
  {
   "cell_type": "code",
   "execution_count": 44,
   "metadata": {},
   "outputs": [
    {
     "data": {
      "text/plain": [
       "'cxgdba'"
      ]
     },
     "execution_count": 44,
     "metadata": {},
     "output_type": "execute_result"
    }
   ],
   "source": [
    "middle_permutation(\"abcdxg\")"
   ]
  },
  {
   "cell_type": "code",
   "execution_count": 45,
   "metadata": {},
   "outputs": [
    {
     "data": {
      "text/plain": [
       "'dczxgba'"
      ]
     },
     "execution_count": 45,
     "metadata": {},
     "output_type": "execute_result"
    }
   ],
   "source": [
    "middle_permutation(\"abcdxgz\")"
   ]
  },
  {
   "cell_type": "code",
   "execution_count": 46,
   "metadata": {},
   "outputs": [],
   "source": [
    "def middle_permutation(string):\n",
    "    s = sorted(string) # didn't know you have to sort the string!!!\n",
    "    if len(s) % 2 ==0:        \n",
    "        return s.pop(len(s)//2-1) +''.join(s[::-1])\n",
    "    else:\n",
    "        return s.pop(len(s)//2) + middle_permutation(s)"
   ]
  },
  {
   "cell_type": "code",
   "execution_count": 47,
   "metadata": {},
   "outputs": [
    {
     "name": "stdout",
     "output_type": "stream",
     "text": [
      "12\n",
      "213\n",
      "2431\n",
      "32541\n",
      "365421\n",
      "4376521\n",
      "bac\n",
      "bdca\n",
      "cbxda\n",
      "cxgdba\n",
      "dczxgba\n"
     ]
    }
   ],
   "source": [
    "print(middle_permutation('12'))\n",
    "\n",
    "print(middle_permutation('123'))\n",
    "\n",
    "print(middle_permutation('1234'))\n",
    "\n",
    "print(middle_permutation(\"12345\"))\n",
    "\n",
    "print(middle_permutation(\"123456\"))\n",
    "\n",
    "print(middle_permutation(\"1234567\"))\n",
    "\n",
    "print(middle_permutation(\"abc\"))\n",
    "\n",
    "print(middle_permutation(\"abcd\"))\n",
    "\n",
    "print(middle_permutation(\"abcdx\"))\n",
    "\n",
    "print(middle_permutation(\"abcdxg\"))\n",
    "\n",
    "print(middle_permutation(\"abcdxgz\"))"
   ]
  },
  {
   "cell_type": "code",
   "execution_count": null,
   "metadata": {},
   "outputs": [],
   "source": []
  }
 ],
 "metadata": {
  "kernelspec": {
   "display_name": "Python 3",
   "language": "python",
   "name": "python3"
  },
  "language_info": {
   "codemirror_mode": {
    "name": "ipython",
    "version": 3
   },
   "file_extension": ".py",
   "mimetype": "text/x-python",
   "name": "python",
   "nbconvert_exporter": "python",
   "pygments_lexer": "ipython3",
   "version": "3.7.5"
  }
 },
 "nbformat": 4,
 "nbformat_minor": 4
}
