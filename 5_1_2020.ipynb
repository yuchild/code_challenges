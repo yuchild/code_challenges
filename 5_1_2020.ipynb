{
 "cells": [
  {
   "cell_type": "code",
   "execution_count": 45,
   "metadata": {},
   "outputs": [],
   "source": [
    "def squares_needed(grains):\n",
    "    ct = 0\n",
    "    i = 0\n",
    "    while ct < grains:\n",
    "        ct += 2 ** i\n",
    "        i += 1\n",
    "    return i  "
   ]
  },
  {
   "cell_type": "code",
   "execution_count": 46,
   "metadata": {},
   "outputs": [
    {
     "data": {
      "text/plain": [
       "0"
      ]
     },
     "execution_count": 46,
     "metadata": {},
     "output_type": "execute_result"
    }
   ],
   "source": [
    "squares_needed(0)"
   ]
  },
  {
   "cell_type": "code",
   "execution_count": 47,
   "metadata": {},
   "outputs": [
    {
     "data": {
      "text/plain": [
       "2"
      ]
     },
     "execution_count": 47,
     "metadata": {},
     "output_type": "execute_result"
    }
   ],
   "source": [
    "squares_needed(2)"
   ]
  },
  {
   "cell_type": "code",
   "execution_count": 48,
   "metadata": {},
   "outputs": [
    {
     "data": {
      "text/plain": [
       "2"
      ]
     },
     "execution_count": 48,
     "metadata": {},
     "output_type": "execute_result"
    }
   ],
   "source": [
    "squares_needed(3)"
   ]
  },
  {
   "cell_type": "code",
   "execution_count": 49,
   "metadata": {},
   "outputs": [
    {
     "data": {
      "text/plain": [
       "3"
      ]
     },
     "execution_count": 49,
     "metadata": {},
     "output_type": "execute_result"
    }
   ],
   "source": [
    "squares_needed(4)"
   ]
  },
  {
   "cell_type": "code",
   "execution_count": null,
   "metadata": {},
   "outputs": [],
   "source": []
  },
  {
   "cell_type": "markdown",
   "metadata": {},
   "source": [
    "# 1 the Lonliest Number"
   ]
  },
  {
   "cell_type": "code",
   "execution_count": 67,
   "metadata": {},
   "outputs": [
    {
     "name": "stdout",
     "output_type": "stream",
     "text": [
      "['3', '1', '5'] ['1', '5']\n",
      "['4', '3', '1', '5'] ['5']\n",
      "['3', '1', '5'] ['1', '5']\n",
      "['5'] ['4', '3', '1', '5']\n",
      "['3', '4', '3', '1', '5'] []\n"
     ]
    }
   ],
   "source": [
    "number = 34315\n",
    "number = str(number)\n",
    "num_lst = [_ for _ in number]\n",
    "left = []\n",
    "right = []\n",
    "for i, x in enumerate(num_lst):\n",
    "    print(num_lst[-int(x)::], num_lst[int(x)::])\n",
    "\n",
    "\n"
   ]
  },
  {
   "cell_type": "code",
   "execution_count": 63,
   "metadata": {},
   "outputs": [
    {
     "name": "stdout",
     "output_type": "stream",
     "text": [
      "0 3\n",
      "1 4\n",
      "2 3\n",
      "3 1\n",
      "4 5\n"
     ]
    }
   ],
   "source": [
    "for x, i in enumerate(num_lst):\n",
    "    print(x, i)"
   ]
  },
  {
   "cell_type": "code",
   "execution_count": 68,
   "metadata": {},
   "outputs": [
    {
     "data": {
      "text/plain": [
       "'34315'"
      ]
     },
     "execution_count": 68,
     "metadata": {},
     "output_type": "execute_result"
    }
   ],
   "source": [
    "number"
   ]
  },
  {
   "cell_type": "code",
   "execution_count": 70,
   "metadata": {},
   "outputs": [],
   "source": [
    "number = '13245'"
   ]
  },
  {
   "cell_type": "code",
   "execution_count": 71,
   "metadata": {
    "scrolled": true
   },
   "outputs": [
    {
     "name": "stdout",
     "output_type": "stream",
     "text": [
      "0 1\n",
      "1 3\n",
      "2 2\n",
      "3 4\n",
      "4 5\n"
     ]
    }
   ],
   "source": [
    "for i, x in enumerate(number):\n",
    "    print(i, x)"
   ]
  },
  {
   "cell_type": "code",
   "execution_count": 74,
   "metadata": {},
   "outputs": [
    {
     "data": {
      "text/plain": [
       "'2'"
      ]
     },
     "execution_count": 74,
     "metadata": {},
     "output_type": "execute_result"
    }
   ],
   "source": [
    "number[2:3]"
   ]
  },
  {
   "cell_type": "code",
   "execution_count": 114,
   "metadata": {},
   "outputs": [
    {
     "name": "stdout",
     "output_type": "stream",
     "text": [
      "the number: 11111\n",
      "to left: -1 to right: 1\n",
      " 1\n",
      "1\n",
      "to left: 0 to right: 2\n",
      "1 1\n",
      "2\n",
      "to left: 1 to right: 3\n",
      "1 1\n",
      "2\n",
      "to left: 2 to right: 4\n",
      "1 1\n",
      "2\n",
      "to left: 3 to right: 5\n",
      "1 \n",
      "1\n",
      "[1, 2, 2, 2, 1]\n",
      "[1, 1, 1, 1, 1]\n",
      "True\n"
     ]
    }
   ],
   "source": [
    "number = '11111'\n",
    "print('the number: ' + number) # print to check\n",
    "sum_lst = []\n",
    "for i, x in enumerate(number):\n",
    "    sum_nums = 0\n",
    "    \n",
    "    x_int = int(x)\n",
    "    l_idx = i - x_int\n",
    "    r_idx = i + x_int\n",
    "    print('to left: ' + str(l_idx) + ' to right: ' + str(r_idx)) # print to check\n",
    "    \n",
    "    if l_idx < 0:\n",
    "        left = number[0:i]\n",
    "    else:\n",
    "        left = number[i-x_int:i]\n",
    "    \n",
    "    if r_idx > len(number) - 1:\n",
    "        right = number[i+1:len(number)]\n",
    "    else:\n",
    "        right = number[i+1:i+x_int+1]\n",
    "        \n",
    "    print(left, right) # print to check\n",
    "    \n",
    "    for x in left:\n",
    "        sum_nums += int(x)\n",
    "    for x in right:\n",
    "        sum_nums += int(x)\n",
    "    \n",
    "    sum_lst.append(sum_nums)\n",
    "    \n",
    "    print(sum_nums)\n",
    "    \n",
    "print(sum_lst)\n",
    "num_lst = [int(x) for x in number] \n",
    "print(num_lst)\n",
    "if sum_lst[num_lst.index(1)] == min(sum_lst):\n",
    "    print('True')\n",
    "else:\n",
    "    print('False')"
   ]
  },
  {
   "cell_type": "code",
   "execution_count": 104,
   "metadata": {},
   "outputs": [
    {
     "data": {
      "text/plain": [
       "1"
      ]
     },
     "execution_count": 104,
     "metadata": {},
     "output_type": "execute_result"
    }
   ],
   "source": [
    "import numpy as np\n",
    "idx = num_lst.index(1)\n",
    "idx"
   ]
  },
  {
   "cell_type": "code",
   "execution_count": 109,
   "metadata": {},
   "outputs": [],
   "source": [
    "lst = [1, 1, 1, 2]"
   ]
  },
  {
   "cell_type": "code",
   "execution_count": 110,
   "metadata": {},
   "outputs": [
    {
     "data": {
      "text/plain": [
       "1"
      ]
     },
     "execution_count": 110,
     "metadata": {},
     "output_type": "execute_result"
    }
   ],
   "source": [
    "min(lst)"
   ]
  },
  {
   "cell_type": "code",
   "execution_count": 137,
   "metadata": {},
   "outputs": [],
   "source": [
    "def loneliest(number): \n",
    "    number = str(number)\n",
    "    if '1' not in number:\n",
    "        return False\n",
    "    else:\n",
    "        \n",
    "        sum_lst = []\n",
    "        for i, x in enumerate(number):\n",
    "            sum_nums = 0\n",
    "\n",
    "            x_int = int(x)\n",
    "            l_idx = i - x_int\n",
    "            r_idx = i + x_int\n",
    "\n",
    "            if l_idx < 0:\n",
    "                left = number[0:i]\n",
    "            else:\n",
    "                left = number[i-x_int:i]\n",
    "\n",
    "            if r_idx > len(number) - 1:\n",
    "                right = number[i+1:len(number)]\n",
    "            else:\n",
    "                right = number[i+1:i+x_int+1]\n",
    "\n",
    "            for x in left:\n",
    "                sum_nums += int(x)\n",
    "            for x in right:\n",
    "                sum_nums += int(x)\n",
    "\n",
    "            sum_lst.append(sum_nums)\n",
    "\n",
    "            num_lst = [int(x) for x in number] \n",
    "\n",
    "        idxs = [i for i, x in enumerate(num_lst) if x == 1]\n",
    "        for x in idxs:\n",
    "            if sum_lst[x] == min(sum_lst):\n",
    "                return True\n",
    "            else:\n",
    "                continue\n",
    "                \n",
    "        else:\n",
    "            return False"
   ]
  },
  {
   "cell_type": "code",
   "execution_count": 138,
   "metadata": {},
   "outputs": [
    {
     "data": {
      "text/plain": [
       "True"
      ]
     },
     "execution_count": 138,
     "metadata": {},
     "output_type": "execute_result"
    }
   ],
   "source": [
    "loneliest(513139)"
   ]
  },
  {
   "cell_type": "code",
   "execution_count": 128,
   "metadata": {},
   "outputs": [
    {
     "data": {
      "text/plain": [
       "2"
      ]
     },
     "execution_count": 128,
     "metadata": {},
     "output_type": "execute_result"
    }
   ],
   "source": [
    "'12135'.count('1')"
   ]
  },
  {
   "cell_type": "code",
   "execution_count": 134,
   "metadata": {},
   "outputs": [
    {
     "data": {
      "text/plain": [
       "[0, 1]"
      ]
     },
     "execution_count": 134,
     "metadata": {},
     "output_type": "execute_result"
    }
   ],
   "source": [
    "my_list = [1, 1, 3, 4]\n",
    "indices = [i for i, x in enumerate(my_list) if x == 1]\n",
    "indices"
   ]
  },
  {
   "cell_type": "code",
   "execution_count": 136,
   "metadata": {},
   "outputs": [
    {
     "data": {
      "text/plain": [
       "10"
      ]
     },
     "execution_count": 136,
     "metadata": {},
     "output_type": "execute_result"
    }
   ],
   "source": [
    "lst = [10, 5, 7]\n",
    "lst[0]"
   ]
  },
  {
   "cell_type": "code",
   "execution_count": null,
   "metadata": {},
   "outputs": [],
   "source": []
  }
 ],
 "metadata": {
  "kernelspec": {
   "display_name": "Python 3",
   "language": "python",
   "name": "python3"
  },
  "language_info": {
   "codemirror_mode": {
    "name": "ipython",
    "version": 3
   },
   "file_extension": ".py",
   "mimetype": "text/x-python",
   "name": "python",
   "nbconvert_exporter": "python",
   "pygments_lexer": "ipython3",
   "version": "3.7.5"
  }
 },
 "nbformat": 4,
 "nbformat_minor": 4
}
