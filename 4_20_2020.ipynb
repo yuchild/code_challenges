{
 "cells": [
  {
   "cell_type": "code",
   "execution_count": 62,
   "metadata": {},
   "outputs": [],
   "source": [
    "# Almost Even"
   ]
  },
  {
   "cell_type": "code",
   "execution_count": 60,
   "metadata": {},
   "outputs": [],
   "source": [
    "def split_integer(num, parts):\n",
    "    quo = num//parts\n",
    "    for x in range(1, parts+1):\n",
    "        if x * quo + (parts - x) * (quo + 1) == num:\n",
    "            return [quo for _ in range(x)] + [quo+1 for _ in range(parts-x)]"
   ]
  },
  {
   "cell_type": "code",
   "execution_count": 61,
   "metadata": {},
   "outputs": [
    {
     "data": {
      "text/plain": [
       "[1, 1]"
      ]
     },
     "execution_count": 61,
     "metadata": {},
     "output_type": "execute_result"
    }
   ],
   "source": [
    "split_integer(2, 2)"
   ]
  },
  {
   "cell_type": "code",
   "execution_count": null,
   "metadata": {},
   "outputs": [],
   "source": [
    "# Binaries"
   ]
  },
  {
   "cell_type": "markdown",
   "metadata": {},
   "source": [
    "Let us take a string composed of decimal digits: \"10111213\". We want to code this string as a string of 0 and 1 and after that be able to decode it.\n",
    "\n",
    "We decompose the given string in its decimal digits 1 0 1 1 1 2 1 3 and we will code each.\n",
    "\n",
    "Coding process to code a number n expressed in base 10:\n",
    "a) Let k be the number of bits of n\n",
    "\n",
    "b) Put k-1 times the digit 0 followed by the digit 1\n",
    "\n",
    "c) Put number n in binary\n",
    "\n",
    "d) Concat the result of b) and c)\n",
    "\n",
    "So we code 0 as 10, 1 as 11 ... etc...\n",
    "\n",
    "Repeating this process with the initial string\n",
    "\n",
    "\"10111213\" becomes : \"11101111110110110111\" resulting of concatenation of 11 10 11 11 11 0110 11 0111 .\n",
    "\n",
    "Task:\n",
    "Given strng a string of digits representing a decimal number the function code(strng) should return the coding of strng as explained above.\n",
    "\n",
    "Given a string strng resulting from the previous coding, decode it to get the corresponding decimal string.\n",
    "\n",
    "Examples:\n",
    "code(\"77338855\") --> \"001111001111011101110001100000011000001101001101\"\n",
    "code(\"77338\")  --> \"0011110011110111011100011000\"\n",
    "code(\"0011121314\") --> \"1010111111011011011111001100\"\n",
    "\n",
    "decode(\"001111001111011101110001100000011000001101001101\") -> \"77338855\"\n",
    "decode(\"0011110011110111011100011000\") -> \"77338\"\n",
    "decode(\"1010111111011011011111001100\") -> \"0011121314\"\n",
    "Notes\n",
    "SHELL: The only tested function is decode.\n",
    "Please could you ask before translating : some translations are already written."
   ]
  },
  {
   "cell_type": "code",
   "execution_count": 90,
   "metadata": {},
   "outputs": [],
   "source": [
    "def code(strng):\n",
    "    str_lst = []\n",
    "    i = 1\n",
    "    for x in strng:\n",
    "        str_lst.append(\"{0:b}\".format(int(x)))\n",
    "    return ''.join(str_lst)\n",
    "    \n",
    "def decode(strng):\n",
    "    pass"
   ]
  },
  {
   "cell_type": "code",
   "execution_count": 91,
   "metadata": {},
   "outputs": [
    {
     "data": {
      "text/plain": [
       "'1011110111'"
      ]
     },
     "execution_count": 91,
     "metadata": {},
     "output_type": "execute_result"
    }
   ],
   "source": [
    "code('10111213')"
   ]
  },
  {
   "cell_type": "code",
   "execution_count": 92,
   "metadata": {},
   "outputs": [
    {
     "data": {
      "text/plain": [
       "'111111111110001000101101'"
      ]
     },
     "execution_count": 92,
     "metadata": {},
     "output_type": "execute_result"
    }
   ],
   "source": [
    "code(\"77338855\")"
   ]
  },
  {
   "cell_type": "code",
   "execution_count": null,
   "metadata": {},
   "outputs": [],
   "source": [
    "decode(strng):\n",
    "    "
   ]
  }
 ],
 "metadata": {
  "kernelspec": {
   "display_name": "Python 3",
   "language": "python",
   "name": "python3"
  },
  "language_info": {
   "codemirror_mode": {
    "name": "ipython",
    "version": 3
   },
   "file_extension": ".py",
   "mimetype": "text/x-python",
   "name": "python",
   "nbconvert_exporter": "python",
   "pygments_lexer": "ipython3",
   "version": "3.7.5"
  }
 },
 "nbformat": 4,
 "nbformat_minor": 4
}
