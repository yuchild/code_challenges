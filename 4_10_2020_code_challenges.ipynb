{
 "cells": [
  {
   "cell_type": "code",
   "execution_count": 1,
   "metadata": {},
   "outputs": [],
   "source": [
    "import modin.pandas as pd\n",
    "import pandas as pds\n",
    "import numpy as np"
   ]
  },
  {
   "cell_type": "code",
   "execution_count": 19,
   "metadata": {},
   "outputs": [],
   "source": [
    "def find_screen_height(width, ratio): \n",
    "    # your code here\n",
    "    nums = ratio.split(':')\n",
    "    numerator = int(nums[0])\n",
    "    denominator = int(nums[1])\n",
    "    fraction = numerator / denominator\n",
    "    str_val = str(width) + 'x' + str(int(width/fraction))\n",
    "    return str_val"
   ]
  },
  {
   "cell_type": "code",
   "execution_count": 20,
   "metadata": {},
   "outputs": [
    {
     "data": {
      "text/plain": [
       "'2x4'"
      ]
     },
     "execution_count": 20,
     "metadata": {},
     "output_type": "execute_result"
    }
   ],
   "source": [
    "find_screen_height(2, '1:2')"
   ]
  },
  {
   "cell_type": "code",
   "execution_count": 9,
   "metadata": {},
   "outputs": [
    {
     "name": "stdout",
     "output_type": "stream",
     "text": [
      "3\n",
      ":\n",
      "5\n",
      "2\n"
     ]
    }
   ],
   "source": [
    "x = '3:52'\n",
    "for a in x:\n",
    "    print(a)"
   ]
  },
  {
   "cell_type": "code",
   "execution_count": 10,
   "metadata": {},
   "outputs": [
    {
     "data": {
      "text/plain": [
       "['3', ':', '5', '2']"
      ]
     },
     "execution_count": 10,
     "metadata": {},
     "output_type": "execute_result"
    }
   ],
   "source": [
    "b = []\n",
    "for a in x:\n",
    "    b.append(a)\n",
    "b"
   ]
  },
  {
   "cell_type": "code",
   "execution_count": 12,
   "metadata": {},
   "outputs": [
    {
     "data": {
      "text/plain": [
       "['3', '52']"
      ]
     },
     "execution_count": 12,
     "metadata": {},
     "output_type": "execute_result"
    }
   ],
   "source": [
    "nums = x.split(':')\n",
    "nums"
   ]
  },
  {
   "cell_type": "code",
   "execution_count": 14,
   "metadata": {},
   "outputs": [
    {
     "data": {
      "text/plain": [
       "52"
      ]
     },
     "execution_count": 14,
     "metadata": {},
     "output_type": "execute_result"
    }
   ],
   "source": [
    "int(nums[1])"
   ]
  },
  {
   "cell_type": "code",
   "execution_count": 28,
   "metadata": {},
   "outputs": [],
   "source": [
    "def convert_my_dollars(usd, currency):\n",
    "    # Replace this comment with your solution\n",
    "    CONVERSION_RATES = {\n",
    "      \"Argentinian Peso\": int('10', 2),\n",
    "      \"Armenian Dram\": 478,\n",
    "      \"Bangladeshi Taka\": int('1010010', 2),\n",
    "      \"Croatian Kuna\": int('110', 2), \n",
    "      \"Czech Koruna\": int(\"10101\", 2),\n",
    "      \"Dominican Peso\": int('110000', 2),\n",
    "      \"Egyptian Pound\": 18,\n",
    "      \"Guatemalan Quetzal\": int('111', 2),\n",
    "      \"Haitian Gourde\": int('1000000', 2),\n",
    "      \"Indian Rupee\": 63,\n",
    "      \"Japanese Yen\": int('1101111', 2),\n",
    "      \"Kenyan Shilling\": int('1100110', 2),\n",
    "      \"Nicaraguan Cordoba\": int('11111', 2),\n",
    "      \"Norwegian Krone\": int('1000'),\n",
    "      \"Philippine Piso\": int('110010', 2),\n",
    "      \"Romanian Leu\": int('100', 2),\n",
    "      \"Samoan Tala\": 11, \n",
    "      \"South Korean Won\": int('10000100011', 2), \n",
    "      \"Thai Baht\": int('100000', 2), \n",
    "      \"Uzbekistani Som\": 8333,\n",
    "      \"Venezuelan Bolivar\": int('1010', 2),\n",
    "      \"Vietnamese Dong\": int('101100000101101', 2)\n",
    "    }\n",
    "    a = usd * CONVERSION_RATES[currency]\n",
    "    string = 'You now have ' + str(a) + ' of ' + currency + '.'\n",
    "    return string"
   ]
  },
  {
   "cell_type": "code",
   "execution_count": 29,
   "metadata": {},
   "outputs": [
    {
     "data": {
      "text/plain": [
       "'You now have 2 of Argentinian Peso.'"
      ]
     },
     "execution_count": 29,
     "metadata": {},
     "output_type": "execute_result"
    }
   ],
   "source": [
    "convert_my_dollars(1, 'Argentinian Peso')"
   ]
  },
  {
   "cell_type": "code",
   "execution_count": 22,
   "metadata": {},
   "outputs": [
    {
     "data": {
      "text/plain": [
       "5"
      ]
     },
     "execution_count": 22,
     "metadata": {},
     "output_type": "execute_result"
    }
   ],
   "source": [
    "a = {'one': 5,\n",
    "     'two': 10\n",
    "    }\n",
    "a['one']"
   ]
  },
  {
   "cell_type": "code",
   "execution_count": 27,
   "metadata": {},
   "outputs": [
    {
     "data": {
      "text/plain": [
       "2"
      ]
     },
     "execution_count": 27,
     "metadata": {},
     "output_type": "execute_result"
    }
   ],
   "source": [
    "int('10', 2)"
   ]
  },
  {
   "cell_type": "code",
   "execution_count": 35,
   "metadata": {},
   "outputs": [],
   "source": [
    "def convert_my_dollars(usd, currency):\n",
    "    # Replace this comment with your solution\n",
    "    CONVERSION_RATES = {\n",
    "      \"Argentinian Peso\": 10,\n",
    "      \"Armenian Dram\": 478,\n",
    "      \"Bangladeshi Taka\": 1010010,\n",
    "      \"Croatian Kuna\": 110, \n",
    "      \"Czech Koruna\": 10101,\n",
    "      \"Dominican Peso\": 110000,\n",
    "      \"Egyptian Pound\": 18,\n",
    "      \"Guatemalan Quetzal\": 111,\n",
    "      \"Haitian Gourde\": 1000000,\n",
    "      \"Indian Rupee\": 63,\n",
    "      \"Japanese Yen\": 1101111,\n",
    "      \"Kenyan Shilling\": 1100110,\n",
    "      \"Nicaraguan Cordoba\": 11111,\n",
    "      \"Norwegian Krone\": 1000,\n",
    "      \"Philippine Piso\": 110010,\n",
    "      \"Romanian Leu\": 100,\n",
    "      \"Samoan Tala\": 11, \n",
    "      \"South Korean Won\": 10000100011, \n",
    "      \"Thai Baht\": 100000,\n",
    "      \"Uzbekistani Som\": 8333,\n",
    "      \"Venezuelan Bolivar\": 1010,\n",
    "      \"Vietnamese Dong\": 101100000101101\n",
    "    }\n",
    "    try:\n",
    "        amount = int(str(CONVERSION_RATES[currency]), 2) * usd\n",
    "    \n",
    "    except ValueError:\n",
    "                     \n",
    "        amount = CONVERSION_RATES[currency] * usd\n",
    "                     \n",
    "    return amount"
   ]
  },
  {
   "cell_type": "code",
   "execution_count": 36,
   "metadata": {},
   "outputs": [
    {
     "data": {
      "text/plain": [
       "2"
      ]
     },
     "execution_count": 36,
     "metadata": {},
     "output_type": "execute_result"
    }
   ],
   "source": [
    "convert_my_dollars(1, 'Argentinian Peso')"
   ]
  },
  {
   "cell_type": "code",
   "execution_count": null,
   "metadata": {},
   "outputs": [],
   "source": [
    "def find_middle(string):\n",
    "    digits = [int(x) for x in string if x.isdigit()]\n",
    "    if len(digits) % 2 != 0:\n",
    "        num = digits[int(len(digits)/2)]\n",
    "    else:\n",
    "        num = digits[int(len(digits)/2)-1:int(len(digits)/2)+1]\n",
    "    return int(''.join(num))"
   ]
  },
  {
   "cell_type": "code",
   "execution_count": 76,
   "metadata": {},
   "outputs": [
    {
     "name": "stdout",
     "output_type": "stream",
     "text": [
      "51\n"
     ]
    }
   ],
   "source": [
    "string = 's7d8jd93'\n",
    "digits = [int(x) for x in string if x.isdigit()]\n",
    "prod = 1\n",
    "for x in digits:\n",
    "    prod *= x\n",
    "prod_dig = [x for x in str(prod)]\n",
    "prod_dig\n",
    "if len(prod_dig) % 2 != 0:\n",
    "    num = prod_dig[int(len(prod_dig)/2)]\n",
    "else:\n",
    "    num = prod_dig[int(len(prod_dig)/2)-1:int(len(prod_dig)/2)+1]\n",
    "print(int(''.join(num)))"
   ]
  },
  {
   "cell_type": "code",
   "execution_count": null,
   "metadata": {},
   "outputs": [],
   "source": []
  },
  {
   "cell_type": "code",
   "execution_count": 66,
   "metadata": {},
   "outputs": [
    {
     "name": "stdout",
     "output_type": "stream",
     "text": [
      "[7, 8, 9]\n"
     ]
    },
    {
     "ename": "TypeError",
     "evalue": "can only join an iterable",
     "output_type": "error",
     "traceback": [
      "\u001b[0;31m---------------------------------------------------------------------------\u001b[0m",
      "\u001b[0;31mTypeError\u001b[0m                                 Traceback (most recent call last)",
      "\u001b[0;32m<ipython-input-66-8e8163c2a0b6>\u001b[0m in \u001b[0;36m<module>\u001b[0;34m\u001b[0m\n\u001b[1;32m      4\u001b[0m     \u001b[0mnum\u001b[0m \u001b[0;34m=\u001b[0m \u001b[0mdigits\u001b[0m\u001b[0;34m[\u001b[0m\u001b[0mint\u001b[0m\u001b[0;34m(\u001b[0m\u001b[0mlen\u001b[0m\u001b[0;34m(\u001b[0m\u001b[0mdigits\u001b[0m\u001b[0;34m)\u001b[0m\u001b[0;34m/\u001b[0m\u001b[0;36m2\u001b[0m\u001b[0;34m)\u001b[0m\u001b[0;34m-\u001b[0m\u001b[0;36m1\u001b[0m\u001b[0;34m:\u001b[0m\u001b[0mint\u001b[0m\u001b[0;34m(\u001b[0m\u001b[0mlen\u001b[0m\u001b[0;34m(\u001b[0m\u001b[0mdigits\u001b[0m\u001b[0;34m)\u001b[0m\u001b[0;34m/\u001b[0m\u001b[0;36m2\u001b[0m\u001b[0;34m)\u001b[0m\u001b[0;34m+\u001b[0m\u001b[0;36m1\u001b[0m\u001b[0;34m]\u001b[0m\u001b[0;34m\u001b[0m\u001b[0;34m\u001b[0m\u001b[0m\n\u001b[1;32m      5\u001b[0m \u001b[0mprint\u001b[0m\u001b[0;34m(\u001b[0m\u001b[0mdigits\u001b[0m\u001b[0;34m)\u001b[0m\u001b[0;34m\u001b[0m\u001b[0;34m\u001b[0m\u001b[0m\n\u001b[0;32m----> 6\u001b[0;31m \u001b[0mprint\u001b[0m\u001b[0;34m(\u001b[0m\u001b[0mint\u001b[0m\u001b[0;34m(\u001b[0m\u001b[0;34m''\u001b[0m\u001b[0;34m.\u001b[0m\u001b[0mjoin\u001b[0m\u001b[0;34m(\u001b[0m\u001b[0mnum\u001b[0m\u001b[0;34m)\u001b[0m\u001b[0;34m)\u001b[0m\u001b[0;34m)\u001b[0m\u001b[0;34m\u001b[0m\u001b[0;34m\u001b[0m\u001b[0m\n\u001b[0m",
      "\u001b[0;31mTypeError\u001b[0m: can only join an iterable"
     ]
    }
   ],
   "source": [
    "if len(str(prod)) % 2 != 0:\n",
    "    num = digits[int(len(digits)/2)]\n",
    "else:\n",
    "    num = digits[int(len(digits)/2)-1:int(len(digits)/2)+1]\n",
    "print(digits)\n",
    "print(int(''.join(num)))"
   ]
  },
  {
   "cell_type": "code",
   "execution_count": 78,
   "metadata": {},
   "outputs": [
    {
     "data": {
      "text/plain": [
       "type"
      ]
     },
     "execution_count": 78,
     "metadata": {},
     "output_type": "execute_result"
    }
   ],
   "source": [
    "type(type('asewotihweo'))"
   ]
  },
  {
   "cell_type": "code",
   "execution_count": 94,
   "metadata": {},
   "outputs": [],
   "source": [
    "def find_middle(string):\n",
    "\n",
    "    if not isinstance(string, str):\n",
    "        return -1\n",
    "        \n",
    "    digits = [int(x) for x in string if x.isnumeric()]\n",
    "    prod = 1\n",
    "    for x in digits:\n",
    "        prod *= x\n",
    "    prod_dig = [x for x in str(prod)]\n",
    "    prod_dig\n",
    "    if len(prod_dig) % 2 != 0:\n",
    "        num = prod_dig[int(len(prod_dig)/2)]\n",
    "    else:\n",
    "        num = prod_dig[int(len(prod_dig)/2)-1:int(len(prod_dig)/2)+1]\n",
    "        \n",
    "    if len(prod_dig) == 0:\n",
    "        return -1\n",
    "    else:\n",
    "        return int(''.join(num))"
   ]
  },
  {
   "cell_type": "code",
   "execution_count": 95,
   "metadata": {},
   "outputs": [
    {
     "data": {
      "text/plain": [
       "0"
      ]
     },
     "execution_count": 95,
     "metadata": {},
     "output_type": "execute_result"
    }
   ],
   "source": [
    "find_middle('s7d8jd9')"
   ]
  },
  {
   "cell_type": "code",
   "execution_count": 96,
   "metadata": {},
   "outputs": [
    {
     "data": {
      "text/plain": [
       "16"
      ]
     },
     "execution_count": 96,
     "metadata": {},
     "output_type": "execute_result"
    }
   ],
   "source": [
    "find_middle('58jd9fgh/fgh6s.,sdf')"
   ]
  },
  {
   "cell_type": "code",
   "execution_count": 97,
   "metadata": {},
   "outputs": [
    {
     "ename": "TypeError",
     "evalue": "find_middle() missing 1 required positional argument: 'string'",
     "output_type": "error",
     "traceback": [
      "\u001b[0;31m---------------------------------------------------------------------------\u001b[0m",
      "\u001b[0;31mTypeError\u001b[0m                                 Traceback (most recent call last)",
      "\u001b[0;32m<ipython-input-97-103726e08bb1>\u001b[0m in \u001b[0;36m<module>\u001b[0;34m\u001b[0m\n\u001b[0;32m----> 1\u001b[0;31m \u001b[0mfind_middle\u001b[0m\u001b[0;34m(\u001b[0m\u001b[0;34m)\u001b[0m\u001b[0;34m\u001b[0m\u001b[0;34m\u001b[0m\u001b[0m\n\u001b[0m",
      "\u001b[0;31mTypeError\u001b[0m: find_middle() missing 1 required positional argument: 'string'"
     ]
    }
   ],
   "source": [
    "find_middle()"
   ]
  },
  {
   "cell_type": "code",
   "execution_count": 98,
   "metadata": {},
   "outputs": [
    {
     "data": {
      "text/plain": [
       "2"
      ]
     },
     "execution_count": 98,
     "metadata": {},
     "output_type": "execute_result"
    }
   ],
   "source": [
    "int(''.join(['0', '2']))"
   ]
  },
  {
   "cell_type": "code",
   "execution_count": 128,
   "metadata": {},
   "outputs": [],
   "source": [
    "def segments(m, a):\n",
    "    lst = [_ for _ in range(m + 1)]\n",
    "    a_list = []\n",
    "    for x in a:\n",
    "        a_list.append([_ for _ in range(x[0], x[1] + 1)])\n",
    "    b_list = []\n",
    "    for x in a_list:\n",
    "        for y in x:\n",
    "            b_list.append(y)\n",
    "    a_set = set(lst)\n",
    "    b_set = set(b_list)\n",
    "    return sorted(list(a_set - b_set))"
   ]
  },
  {
   "cell_type": "code",
   "execution_count": 129,
   "metadata": {},
   "outputs": [
    {
     "data": {
      "text/plain": [
       "[0, 3, 4]"
      ]
     },
     "execution_count": 129,
     "metadata": {},
     "output_type": "execute_result"
    }
   ],
   "source": [
    "segments(5, [(2, 2), (1, 2), (5, 5)])"
   ]
  },
  {
   "cell_type": "code",
   "execution_count": 130,
   "metadata": {
    "scrolled": true
   },
   "outputs": [
    {
     "data": {
      "text/plain": [
       "[]"
      ]
     },
     "execution_count": 130,
     "metadata": {},
     "output_type": "execute_result"
    }
   ],
   "source": [
    "segments(7, [(0,7)])"
   ]
  },
  {
   "cell_type": "code",
   "execution_count": 131,
   "metadata": {},
   "outputs": [
    {
     "data": {
      "text/plain": [
       "[15, 31, 32, 33, 34, 35, 36, 37, 38, 39, 40, 41, 42, 43, 44]"
      ]
     },
     "execution_count": 131,
     "metadata": {},
     "output_type": "execute_result"
    }
   ],
   "source": [
    "segments(44, [(0, 9), (25, 28), (6, 14), (19, 29), (22, 30), (5, 14), (16, 24)])"
   ]
  },
  {
   "cell_type": "code",
   "execution_count": null,
   "metadata": {},
   "outputs": [],
   "source": []
  },
  {
   "cell_type": "code",
   "execution_count": null,
   "metadata": {},
   "outputs": [],
   "source": []
  },
  {
   "cell_type": "code",
   "execution_count": null,
   "metadata": {},
   "outputs": [],
   "source": []
  },
  {
   "cell_type": "code",
   "execution_count": null,
   "metadata": {},
   "outputs": [],
   "source": []
  },
  {
   "cell_type": "code",
   "execution_count": 105,
   "metadata": {},
   "outputs": [
    {
     "data": {
      "text/plain": [
       "[0, 1, 2, 3, 4]"
      ]
     },
     "execution_count": 105,
     "metadata": {},
     "output_type": "execute_result"
    }
   ],
   "source": [
    "m = 5\n",
    "lst = [_ for _ in range(5)]\n",
    "lst"
   ]
  },
  {
   "cell_type": "code",
   "execution_count": 107,
   "metadata": {},
   "outputs": [],
   "source": [
    "a = [(2, 2), (1, 2), (5, 5)]"
   ]
  },
  {
   "cell_type": "code",
   "execution_count": 113,
   "metadata": {},
   "outputs": [
    {
     "data": {
      "text/plain": [
       "[[2], [1, 2], [5]]"
      ]
     },
     "execution_count": 113,
     "metadata": {},
     "output_type": "execute_result"
    }
   ],
   "source": [
    "a_list = []\n",
    "for x in a:\n",
    "    a_list.append([_ for _ in range(x[0], x[1]+1)])\n",
    "a_list"
   ]
  },
  {
   "cell_type": "code",
   "execution_count": 117,
   "metadata": {},
   "outputs": [
    {
     "data": {
      "text/plain": [
       "[2, 1, 2, 5]"
      ]
     },
     "execution_count": 117,
     "metadata": {},
     "output_type": "execute_result"
    }
   ],
   "source": [
    "b_list = []\n",
    "for x in a_list:\n",
    "    for y in x:\n",
    "        b_list.append(y)\n",
    "b_list"
   ]
  },
  {
   "cell_type": "code",
   "execution_count": 121,
   "metadata": {},
   "outputs": [
    {
     "data": {
      "text/plain": [
       "{0, 3, 4}"
      ]
     },
     "execution_count": 121,
     "metadata": {},
     "output_type": "execute_result"
    }
   ],
   "source": [
    "a_set = set(lst)\n",
    "b_set = set(b_list)\n",
    "a_set - b_set"
   ]
  },
  {
   "cell_type": "code",
   "execution_count": 122,
   "metadata": {},
   "outputs": [
    {
     "data": {
      "text/plain": [
       "[0, 3, 4]"
      ]
     },
     "execution_count": 122,
     "metadata": {},
     "output_type": "execute_result"
    }
   ],
   "source": [
    "list(a_set - b_set)"
   ]
  },
  {
   "cell_type": "code",
   "execution_count": null,
   "metadata": {},
   "outputs": [],
   "source": []
  }
 ],
 "metadata": {
  "kernelspec": {
   "display_name": "Python 3",
   "language": "python",
   "name": "python3"
  },
  "language_info": {
   "codemirror_mode": {
    "name": "ipython",
    "version": 3
   },
   "file_extension": ".py",
   "mimetype": "text/x-python",
   "name": "python",
   "nbconvert_exporter": "python",
   "pygments_lexer": "ipython3",
   "version": "3.7.5"
  }
 },
 "nbformat": 4,
 "nbformat_minor": 4
}
