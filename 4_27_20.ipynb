{
 "cells": [
  {
   "cell_type": "code",
   "execution_count": 1,
   "metadata": {},
   "outputs": [
    {
     "data": {
      "text/plain": [
       "'12+3=15'"
      ]
     },
     "execution_count": 1,
     "metadata": {},
     "output_type": "execute_result"
    }
   ],
   "source": [
    "'1?+3=15'.replace('?', '2')"
   ]
  },
  {
   "cell_type": "code",
   "execution_count": 2,
   "metadata": {
    "scrolled": true
   },
   "outputs": [
    {
     "name": "stdout",
     "output_type": "stream",
     "text": [
      "10+3=15\n",
      "11+3=15\n",
      "12+3=15\n",
      "13+3=15\n",
      "14+3=15\n",
      "15+3=15\n",
      "16+3=15\n",
      "17+3=15\n",
      "18+3=15\n",
      "19+3=15\n"
     ]
    }
   ],
   "source": [
    "for x in range(10):\n",
    "    print('1?+3=15'.replace('?', str(x)))"
   ]
  },
  {
   "cell_type": "code",
   "execution_count": 3,
   "metadata": {},
   "outputs": [],
   "source": [
    "str1 = \"-5?*-1=5?\""
   ]
  },
  {
   "cell_type": "code",
   "execution_count": 4,
   "metadata": {},
   "outputs": [],
   "source": [
    "str1 = str1.replace('?', '0')"
   ]
  },
  {
   "cell_type": "code",
   "execution_count": 5,
   "metadata": {},
   "outputs": [
    {
     "data": {
      "text/plain": [
       "['-50', '-1', '50']"
      ]
     },
     "execution_count": 5,
     "metadata": {},
     "output_type": "execute_result"
    }
   ],
   "source": [
    "import re\n",
    "lst = re.findall(r'\\-?\\d+', str1)\n",
    "lst"
   ]
  },
  {
   "cell_type": "code",
   "execution_count": 6,
   "metadata": {},
   "outputs": [
    {
     "data": {
      "text/plain": [
       "'*'"
      ]
     },
     "execution_count": 6,
     "metadata": {},
     "output_type": "execute_result"
    }
   ],
   "source": [
    "ops = re.findall(r'[0-9][+\\-*]+?', str1)[0][-1]\n",
    "ops"
   ]
  },
  {
   "cell_type": "code",
   "execution_count": 7,
   "metadata": {},
   "outputs": [
    {
     "data": {
      "text/plain": [
       "'*'"
      ]
     },
     "execution_count": 7,
     "metadata": {},
     "output_type": "execute_result"
    }
   ],
   "source": [
    "ops[-1]"
   ]
  },
  {
   "cell_type": "code",
   "execution_count": 8,
   "metadata": {},
   "outputs": [
    {
     "data": {
      "text/plain": [
       "'*'"
      ]
     },
     "execution_count": 8,
     "metadata": {},
     "output_type": "execute_result"
    }
   ],
   "source": [
    "op = ''\n",
    "for x in ops[0]:\n",
    "    if x in {'+', '*', '-'}:\n",
    "        op = x\n",
    "op"
   ]
  },
  {
   "cell_type": "code",
   "execution_count": 9,
   "metadata": {},
   "outputs": [],
   "source": [
    "import operator\n",
    "def get_op(op):\n",
    "    return {'+':operator.add\n",
    "            , '-': operator.sub\n",
    "            , '*': operator.mul}[op]"
   ]
  },
  {
   "cell_type": "code",
   "execution_count": 10,
   "metadata": {
    "scrolled": false
   },
   "outputs": [
    {
     "data": {
      "text/plain": [
       "50"
      ]
     },
     "execution_count": 10,
     "metadata": {},
     "output_type": "execute_result"
    }
   ],
   "source": [
    "get_op(ops[0])(int(lst[0]), int(lst[1]))"
   ]
  },
  {
   "cell_type": "code",
   "execution_count": 11,
   "metadata": {},
   "outputs": [],
   "source": [
    "def solve_runes(runes):\n",
    "    import operator\n",
    "    import re\n",
    "    \n",
    "    def get_op(op):\n",
    "        return {'+':operator.add\n",
    "                , '-': operator.sub\n",
    "                , '*': operator.mul}[op]\n",
    "    \n",
    "    zro = ''\n",
    "    ans_lst = []\n",
    "    for x in range(0, 10):\n",
    "        str1 = runes.replace('?', str(x))\n",
    "        lst = re.findall(r'\\-?\\d+', str1)\n",
    "        if lst[-1] == '00':\n",
    "            zro = '00'\n",
    "        ops = re.findall(r'[0-9][+\\-*]+?', str1)[0][-1]\n",
    "        ans = get_op(ops[0])(int(lst[0]), int(lst[1]))\n",
    "        if ans == int(lst[2]):\n",
    "            ans_lst.append(x)\n",
    "            \n",
    "    num_set = set(re.findall(r'[0-9]', runes))\n",
    "    \n",
    "    if len(ans_lst) == 0:\n",
    "        return -1\n",
    "    elif len(ans_lst) == 10:\n",
    "        for x in ans_lst:\n",
    "            if str(x) not in (num_set and zro):\n",
    "                return x\n",
    "            else:\n",
    "                continue\n",
    "\n",
    "    else:\n",
    "        return ans_lst[0]"
   ]
  },
  {
   "cell_type": "code",
   "execution_count": 12,
   "metadata": {},
   "outputs": [
    {
     "data": {
      "text/plain": [
       "True"
      ]
     },
     "execution_count": 12,
     "metadata": {},
     "output_type": "execute_result"
    }
   ],
   "source": [
    "'0' not in ({'1', '2'} and '11')"
   ]
  },
  {
   "cell_type": "code",
   "execution_count": 13,
   "metadata": {},
   "outputs": [
    {
     "data": {
      "text/plain": [
       "True"
      ]
     },
     "execution_count": 13,
     "metadata": {},
     "output_type": "execute_result"
    }
   ],
   "source": [
    "'0' in '00'"
   ]
  },
  {
   "cell_type": "code",
   "execution_count": 14,
   "metadata": {},
   "outputs": [
    {
     "data": {
      "text/plain": [
       "2"
      ]
     },
     "execution_count": 14,
     "metadata": {},
     "output_type": "execute_result"
    }
   ],
   "source": [
    "solve_runes('1+1=?')"
   ]
  },
  {
   "cell_type": "code",
   "execution_count": 15,
   "metadata": {},
   "outputs": [
    {
     "data": {
      "text/plain": [
       "6"
      ]
     },
     "execution_count": 15,
     "metadata": {},
     "output_type": "execute_result"
    }
   ],
   "source": [
    "solve_runes(\"123*45?=5?088\")"
   ]
  },
  {
   "cell_type": "code",
   "execution_count": 16,
   "metadata": {
    "scrolled": true
   },
   "outputs": [
    {
     "data": {
      "text/plain": [
       "-1"
      ]
     },
     "execution_count": 16,
     "metadata": {},
     "output_type": "execute_result"
    }
   ],
   "source": [
    "solve_runes(\"19--45=5?\")"
   ]
  },
  {
   "cell_type": "code",
   "execution_count": 17,
   "metadata": {},
   "outputs": [
    {
     "data": {
      "text/plain": [
       "0"
      ]
     },
     "execution_count": 17,
     "metadata": {},
     "output_type": "execute_result"
    }
   ],
   "source": [
    "solve_runes(\"-5?*-1=5?\")"
   ]
  },
  {
   "cell_type": "code",
   "execution_count": 18,
   "metadata": {},
   "outputs": [],
   "source": [
    "def solve_runes(runes):\n",
    "    import operator\n",
    "    import re\n",
    "    \n",
    "    def get_op(op):\n",
    "        return {'+':operator.add\n",
    "                , '-': operator.sub\n",
    "                , '*': operator.mul}[op]\n",
    "    \n",
    "    zro = ''\n",
    "    ans_lst = []\n",
    "    for x in range(0, 10):\n",
    "        str1 = runes.replace('?', str(x))\n",
    "        lst = re.findall(r'\\-?\\d+', str1)\n",
    "        if lst[-1] == '00':\n",
    "            zro = '0'\n",
    "        ops = re.findall(r'[0-9][+\\-*]+?', str1)[0][-1]\n",
    "        ans = get_op(ops[0])(int(lst[0]), int(lst[1]))\n",
    "        if ans == int(lst[2]):\n",
    "            ans_lst.append(x)\n",
    "            \n",
    "    num_set = set(re.findall(r'[0-9]', runes))\n",
    "    # return ans_lst, num_set, zro\n",
    "    if len(ans_lst) == 0:\n",
    "        return -1\n",
    "    elif len(ans_lst) == 10:\n",
    "        for x in ans_lst:\n",
    "            if str(x) not in (num_set | set(zro)):\n",
    "                return x\n",
    "            else:\n",
    "                continue\n",
    "\n",
    "    else:\n",
    "        return ans_lst[0]"
   ]
  },
  {
   "cell_type": "code",
   "execution_count": null,
   "metadata": {},
   "outputs": [],
   "source": []
  },
  {
   "cell_type": "code",
   "execution_count": 19,
   "metadata": {},
   "outputs": [
    {
     "data": {
      "text/plain": [
       "{'0', '1', '2'}"
      ]
     },
     "execution_count": 19,
     "metadata": {},
     "output_type": "execute_result"
    }
   ],
   "source": [
    "a = {'1', '2'}\n",
    "b = {'0'}\n",
    "c = a | b\n",
    "c"
   ]
  },
  {
   "cell_type": "code",
   "execution_count": 20,
   "metadata": {
    "scrolled": true
   },
   "outputs": [
    {
     "data": {
      "text/plain": [
       "2"
      ]
     },
     "execution_count": 20,
     "metadata": {},
     "output_type": "execute_result"
    }
   ],
   "source": [
    "solve_runes(\"?*11=??\")"
   ]
  },
  {
   "cell_type": "code",
   "execution_count": 21,
   "metadata": {},
   "outputs": [],
   "source": [
    "import re, operator as op\n",
    "\n",
    "parse_op = re.compile(r\"(-?[0-9?]+)([-+*])(-?[0-9?]+)(=)(-?[0-9?]+)\")  #For parsing the LHS.\n",
    "ops = {\"*\": op.mul, \"+\": op.add, \"-\": op.sub}\n",
    "\n",
    "def solve_runes(s):\n",
    "    search = set(\"0123456789\") - set(c for c in s if c.isnumeric())\n",
    "    n = [0]*3\n",
    "    n[0], op, n[1], x, n[2] = parse_op.search(s).groups()\n",
    "    if any(len(x) > 1 and x[0] == \"?\" for x in n):\n",
    "        search -= {\"0\"}\n",
    "    for digit in sorted(search):\n",
    "        v = [int(x.replace(\"?\", digit)) for x in n]\n",
    "        if ops[op](v[0], v[1]) == v[2]:\n",
    "            return int(digit)\n",
    "    return -1"
   ]
  },
  {
   "cell_type": "code",
   "execution_count": 22,
   "metadata": {},
   "outputs": [
    {
     "data": {
      "text/plain": [
       "2"
      ]
     },
     "execution_count": 22,
     "metadata": {},
     "output_type": "execute_result"
    }
   ],
   "source": [
    "solve_runes(\"?*11=??\")"
   ]
  },
  {
   "cell_type": "code",
   "execution_count": null,
   "metadata": {},
   "outputs": [],
   "source": []
  }
 ],
 "metadata": {
  "kernelspec": {
   "display_name": "Python 3",
   "language": "python",
   "name": "python3"
  },
  "language_info": {
   "codemirror_mode": {
    "name": "ipython",
    "version": 3
   },
   "file_extension": ".py",
   "mimetype": "text/x-python",
   "name": "python",
   "nbconvert_exporter": "python",
   "pygments_lexer": "ipython3",
   "version": "3.7.5"
  }
 },
 "nbformat": 4,
 "nbformat_minor": 4
}
