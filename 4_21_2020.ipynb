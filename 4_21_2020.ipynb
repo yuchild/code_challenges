{
 "cells": [
  {
   "cell_type": "code",
   "execution_count": 127,
   "metadata": {},
   "outputs": [],
   "source": [
    "names = [\"Sheldon\", \"Leonard\", \"Penny\", \"Rajesh\", \"Howard\"]\n",
    "def who_is_next(names, r):\n",
    "    for _ in range(r):\n",
    "        lst = []\n",
    "        lst = names[1:]\n",
    "        lst.append(names[0])\n",
    "        lst.append(names[0])\n",
    "        names = lst\n",
    "    return lst[-1]"
   ]
  },
  {
   "cell_type": "code",
   "execution_count": 128,
   "metadata": {
    "scrolled": true
   },
   "outputs": [
    {
     "data": {
      "text/plain": [
       "'Leonard'"
      ]
     },
     "execution_count": 128,
     "metadata": {},
     "output_type": "execute_result"
    }
   ],
   "source": [
    "who_is_next(names, 21)"
   ]
  },
  {
   "cell_type": "code",
   "execution_count": 80,
   "metadata": {},
   "outputs": [],
   "source": [
    "lst1 = [1, 2, 3, 4, 5]"
   ]
  },
  {
   "cell_type": "code",
   "execution_count": 85,
   "metadata": {},
   "outputs": [
    {
     "data": {
      "text/plain": [
       "<matplotlib.collections.PathCollection at 0x7fac0caaafd0>"
      ]
     },
     "execution_count": 85,
     "metadata": {},
     "output_type": "execute_result"
    },
    {
     "data": {
      "image/png": "[encoded data removed]",
      "text/plain": [
       "<Figure size 432x288 with 1 Axes>"
      ]
     },
     "metadata": {
      "needs_background": "light"
     },
     "output_type": "display_data"
    }
   ],
   "source": [
    "x = [x for x in range(1, 51)]\n",
    "y = [who_is_next(lst1, x) for x in x]\n",
    "import matplotlib.pyplot as plt\n",
    "plt.scatter(x, y)"
   ]
  },
  {
   "cell_type": "code",
   "execution_count": 115,
   "metadata": {},
   "outputs": [
    {
     "name": "stdout",
     "output_type": "stream",
     "text": [
      "59\n",
      "4\n",
      "2\n"
     ]
    }
   ],
   "source": [
    "x = 0\n",
    "i = 0\n",
    "num = 52\n",
    "while x < num:\n",
    "    for j in range(5):\n",
    "        x += 2**i\n",
    "        if x > num:\n",
    "            break\n",
    "    i+=1\n",
    "print(x)\n",
    "print(i)\n",
    "print(j)\n",
    "        "
   ]
  },
  {
   "cell_type": "code",
   "execution_count": 134,
   "metadata": {},
   "outputs": [],
   "source": [
    "names = [\"Sheldon\", \"Leonard\", \"Penny\", \"Rajesh\", \"Howard\"]\n",
    "def who_is_next(names, r):\n",
    "    x = 0\n",
    "    i = 0\n",
    "    num = r\n",
    "    while x < num:\n",
    "        for j in range(5):\n",
    "            x += 2**i\n",
    "            if x >= num:\n",
    "                break\n",
    "        i+=1\n",
    "    return names[j]"
   ]
  },
  {
   "cell_type": "code",
   "execution_count": 137,
   "metadata": {},
   "outputs": [
    {
     "data": {
      "text/plain": [
       "'Sheldon'"
      ]
     },
     "execution_count": 137,
     "metadata": {},
     "output_type": "execute_result"
    }
   ],
   "source": [
    "who_is_next(names,1)"
   ]
  },
  {
   "cell_type": "markdown",
   "metadata": {},
   "source": [
    "### Is My Friend Cheeting? "
   ]
  },
  {
   "cell_type": "code",
   "execution_count": 166,
   "metadata": {
    "scrolled": true
   },
   "outputs": [
    {
     "data": {
      "text/plain": [
       "[(1, 2),\n",
       " (1, 3),\n",
       " (1, 4),\n",
       " (1, 5),\n",
       " (2, 1),\n",
       " (2, 3),\n",
       " (2, 4),\n",
       " (2, 5),\n",
       " (3, 1),\n",
       " (3, 2),\n",
       " (3, 4),\n",
       " (3, 5),\n",
       " (4, 1),\n",
       " (4, 2),\n",
       " (4, 3),\n",
       " (4, 5),\n",
       " (5, 1),\n",
       " (5, 2),\n",
       " (5, 3),\n",
       " (5, 4)]"
      ]
     },
     "execution_count": 166,
     "metadata": {},
     "output_type": "execute_result"
    }
   ],
   "source": [
    "n = 5\n",
    "num_lst = [x for x in range(1, n+1)]\n",
    "num_set = set(num_lst)\n",
    "nums_lst = []\n",
    "for i in range(n):\n",
    "    for j in range(n):\n",
    "        if i != j:\n",
    "            nums_lst.append((num_lst[i], num_lst[j]))\n",
    "nums_lst"
   ]
  },
  {
   "cell_type": "code",
   "execution_count": 168,
   "metadata": {},
   "outputs": [
    {
     "data": {
      "text/plain": [
       "12"
      ]
     },
     "execution_count": 168,
     "metadata": {},
     "output_type": "execute_result"
    }
   ],
   "source": [
    "sum(num_set - set(nums_lst[0]))"
   ]
  },
  {
   "cell_type": "code",
   "execution_count": null,
   "metadata": {},
   "outputs": [],
   "source": [
    "nums_lst[0][0] * "
   ]
  },
  {
   "cell_type": "code",
   "execution_count": 169,
   "metadata": {},
   "outputs": [
    {
     "data": {
      "text/plain": [
       "[]"
      ]
     },
     "execution_count": 169,
     "metadata": {},
     "output_type": "execute_result"
    }
   ],
   "source": [
    "ans = []\n",
    "for x in nums_lst:\n",
    "    s = sum(num_set - set(x))\n",
    "    p = x[0] * x[1]\n",
    "    if p == s:\n",
    "        ans.append(x)\n",
    "ans\n",
    "    "
   ]
  },
  {
   "cell_type": "code",
   "execution_count": 170,
   "metadata": {},
   "outputs": [],
   "source": [
    "def removNb(n):\n",
    "    num_lst = [x for x in range(1, n+1)]\n",
    "    num_set = set(num_lst)\n",
    "    nums_lst = []\n",
    "    for i in range(n):\n",
    "        for j in range(n):\n",
    "            if i != j:\n",
    "                nums_lst.append((num_lst[i], num_lst[j]))\n",
    "    ans = []\n",
    "    for x in nums_lst:\n",
    "        s = sum(num_set - set(x))\n",
    "        p = x[0] * x[1]\n",
    "        if p == s:\n",
    "            ans.append(x)   \n",
    "    return ans"
   ]
  },
  {
   "cell_type": "code",
   "execution_count": 171,
   "metadata": {},
   "outputs": [
    {
     "data": {
      "text/plain": [
       "[(15, 21), (21, 15)]"
      ]
     },
     "execution_count": 171,
     "metadata": {},
     "output_type": "execute_result"
    }
   ],
   "source": [
    "removNb(26)"
   ]
  },
  {
   "cell_type": "code",
   "execution_count": 172,
   "metadata": {},
   "outputs": [
    {
     "data": {
      "text/plain": [
       "[]"
      ]
     },
     "execution_count": 172,
     "metadata": {},
     "output_type": "execute_result"
    }
   ],
   "source": [
    "removNb(100)"
   ]
  },
  {
   "cell_type": "code",
   "execution_count": 173,
   "metadata": {},
   "outputs": [
    {
     "data": {
      "text/plain": [
       "[]"
      ]
     },
     "execution_count": 173,
     "metadata": {},
     "output_type": "execute_result"
    }
   ],
   "source": [
    "removNb(1)"
   ]
  },
  {
   "cell_type": "code",
   "execution_count": 174,
   "metadata": {},
   "outputs": [
    {
     "data": {
      "text/plain": [
       "[]"
      ]
     },
     "execution_count": 174,
     "metadata": {},
     "output_type": "execute_result"
    }
   ],
   "source": [
    "removNb(2)"
   ]
  },
  {
   "cell_type": "code",
   "execution_count": 176,
   "metadata": {
    "scrolled": true
   },
   "outputs": [
    {
     "name": "stdout",
     "output_type": "stream",
     "text": [
      "[] 1\n",
      "[] 2\n",
      "[] 3\n",
      "[] 4\n",
      "[] 5\n",
      "[] 6\n",
      "[] 7\n",
      "[] 8\n",
      "[] 9\n",
      "[(6, 7), (7, 6)] 10\n",
      "[] 11\n",
      "[] 12\n",
      "[] 13\n",
      "[] 14\n",
      "[] 15\n",
      "[] 16\n",
      "[(10, 13), (13, 10)] 17\n",
      "[] 18\n",
      "[] 19\n",
      "[] 20\n",
      "[] 21\n",
      "[] 22\n",
      "[] 23\n",
      "[] 24\n",
      "[] 25\n",
      "[(15, 21), (21, 15)] 26\n",
      "[] 27\n",
      "[] 28\n",
      "[] 29\n",
      "[] 30\n",
      "[] 31\n",
      "[] 32\n",
      "[] 33\n",
      "[] 34\n",
      "[] 35\n",
      "[(22, 28), (28, 22)] 36\n",
      "[(21, 31), (31, 21)] 37\n",
      "[] 38\n",
      "[] 39\n",
      "[] 40\n",
      "[] 41\n",
      "[] 42\n",
      "[] 43\n",
      "[] 44\n",
      "[(27, 36), (36, 27)] 45\n",
      "[] 46\n",
      "[] 47\n",
      "[] 48\n",
      "[] 49\n",
      "[(28, 43), (43, 28)] 50\n"
     ]
    }
   ],
   "source": [
    "for x in range(1, 51):\n",
    "    print(removNb(x), x)"
   ]
  },
  {
   "cell_type": "code",
   "execution_count": 182,
   "metadata": {
    "scrolled": true
   },
   "outputs": [
    {
     "data": {
      "text/plain": [
       "25.0"
      ]
     },
     "execution_count": 182,
     "metadata": {},
     "output_type": "execute_result"
    }
   ],
   "source": [
    "50/2"
   ]
  },
  {
   "cell_type": "code",
   "execution_count": 183,
   "metadata": {},
   "outputs": [
    {
     "data": {
      "text/plain": [
       "37.5"
      ]
     },
     "execution_count": 183,
     "metadata": {},
     "output_type": "execute_result"
    }
   ],
   "source": [
    "(25 + 50)/2"
   ]
  },
  {
   "cell_type": "code",
   "execution_count": 184,
   "metadata": {},
   "outputs": [
    {
     "data": {
      "text/plain": [
       "9.5"
      ]
     },
     "execution_count": 184,
     "metadata": {},
     "output_type": "execute_result"
    }
   ],
   "source": [
    "37.5-28"
   ]
  },
  {
   "cell_type": "code",
   "execution_count": 185,
   "metadata": {},
   "outputs": [
    {
     "data": {
      "text/plain": [
       "5.5"
      ]
     },
     "execution_count": 185,
     "metadata": {},
     "output_type": "execute_result"
    }
   ],
   "source": [
    "43-37.5"
   ]
  },
  {
   "cell_type": "markdown",
   "metadata": {},
   "source": [
    "### faster way:"
   ]
  },
  {
   "cell_type": "code",
   "execution_count": 180,
   "metadata": {},
   "outputs": [],
   "source": [
    "def removNb(n):\n",
    "    num_lst = [x for x in range(1, n+1)]\n",
    "    num_set = set(num_lst)\n",
    "    nums_lst = []\n",
    "    for i in range(n//2, n):\n",
    "        for j in range(n//2, n):\n",
    "            if i != j:\n",
    "                nums_lst.append((num_lst[i], num_lst[j]))\n",
    "    ans = []\n",
    "    for x in nums_lst:\n",
    "        s = sum(num_set - set(x))\n",
    "        p = x[0] * x[1]\n",
    "        if p == s:\n",
    "            ans.append(x)   \n",
    "    return ans"
   ]
  },
  {
   "cell_type": "code",
   "execution_count": 181,
   "metadata": {},
   "outputs": [
    {
     "data": {
      "text/plain": [
       "[(28, 43), (43, 28)]"
      ]
     },
     "execution_count": 181,
     "metadata": {},
     "output_type": "execute_result"
    }
   ],
   "source": [
    "removNb(50)"
   ]
  },
  {
   "cell_type": "code",
   "execution_count": null,
   "metadata": {},
   "outputs": [],
   "source": []
  }
 ],
 "metadata": {
  "kernelspec": {
   "display_name": "Python 3",
   "language": "python",
   "name": "python3"
  },
  "language_info": {
   "codemirror_mode": {
    "name": "ipython",
    "version": 3
   },
   "file_extension": ".py",
   "mimetype": "text/x-python",
   "name": "python",
   "nbconvert_exporter": "python",
   "pygments_lexer": "ipython3",
   "version": "3.7.5"
  }
 },
 "nbformat": 4,
 "nbformat_minor": 4
}
